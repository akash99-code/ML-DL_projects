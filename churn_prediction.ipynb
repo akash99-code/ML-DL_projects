{
 "cells": [
  {
   "cell_type": "markdown",
   "id": "f85d37c9",
   "metadata": {},
   "source": [
    "## Customer Churn Prediction using ANN"
   ]
  },
  {
   "cell_type": "code",
   "execution_count": 1,
   "id": "1f72793e",
   "metadata": {},
   "outputs": [],
   "source": [
    "import pandas as pd\n",
    "import numpy as np\n",
    "import matplotlib.pyplot as plt"
   ]
  },
  {
   "cell_type": "code",
   "execution_count": 2,
   "id": "44aaf9c3",
   "metadata": {},
   "outputs": [
    {
     "data": {
      "text/html": [
       "<div>\n",
       "<style scoped>\n",
       "    .dataframe tbody tr th:only-of-type {\n",
       "        vertical-align: middle;\n",
       "    }\n",
       "\n",
       "    .dataframe tbody tr th {\n",
       "        vertical-align: top;\n",
       "    }\n",
       "\n",
       "    .dataframe thead th {\n",
       "        text-align: right;\n",
       "    }\n",
       "</style>\n",
       "<table border=\"1\" class=\"dataframe\">\n",
       "  <thead>\n",
       "    <tr style=\"text-align: right;\">\n",
       "      <th></th>\n",
       "      <th>customerID</th>\n",
       "      <th>gender</th>\n",
       "      <th>SeniorCitizen</th>\n",
       "      <th>Partner</th>\n",
       "      <th>Dependents</th>\n",
       "      <th>tenure</th>\n",
       "      <th>PhoneService</th>\n",
       "      <th>MultipleLines</th>\n",
       "      <th>InternetService</th>\n",
       "      <th>OnlineSecurity</th>\n",
       "      <th>...</th>\n",
       "      <th>DeviceProtection</th>\n",
       "      <th>TechSupport</th>\n",
       "      <th>StreamingTV</th>\n",
       "      <th>StreamingMovies</th>\n",
       "      <th>Contract</th>\n",
       "      <th>PaperlessBilling</th>\n",
       "      <th>PaymentMethod</th>\n",
       "      <th>MonthlyCharges</th>\n",
       "      <th>TotalCharges</th>\n",
       "      <th>Churn</th>\n",
       "    </tr>\n",
       "  </thead>\n",
       "  <tbody>\n",
       "    <tr>\n",
       "      <th>914</th>\n",
       "      <td>6024-RUGGH</td>\n",
       "      <td>Male</td>\n",
       "      <td>0</td>\n",
       "      <td>Yes</td>\n",
       "      <td>Yes</td>\n",
       "      <td>72</td>\n",
       "      <td>Yes</td>\n",
       "      <td>Yes</td>\n",
       "      <td>No</td>\n",
       "      <td>No internet service</td>\n",
       "      <td>...</td>\n",
       "      <td>No internet service</td>\n",
       "      <td>No internet service</td>\n",
       "      <td>No internet service</td>\n",
       "      <td>No internet service</td>\n",
       "      <td>Two year</td>\n",
       "      <td>Yes</td>\n",
       "      <td>Bank transfer (automatic)</td>\n",
       "      <td>25.20</td>\n",
       "      <td>1798.9</td>\n",
       "      <td>No</td>\n",
       "    </tr>\n",
       "    <tr>\n",
       "      <th>6248</th>\n",
       "      <td>6549-BTYPG</td>\n",
       "      <td>Female</td>\n",
       "      <td>0</td>\n",
       "      <td>Yes</td>\n",
       "      <td>No</td>\n",
       "      <td>60</td>\n",
       "      <td>No</td>\n",
       "      <td>No phone service</td>\n",
       "      <td>DSL</td>\n",
       "      <td>No</td>\n",
       "      <td>...</td>\n",
       "      <td>Yes</td>\n",
       "      <td>Yes</td>\n",
       "      <td>Yes</td>\n",
       "      <td>Yes</td>\n",
       "      <td>Two year</td>\n",
       "      <td>No</td>\n",
       "      <td>Credit card (automatic)</td>\n",
       "      <td>60.80</td>\n",
       "      <td>3603.45</td>\n",
       "      <td>No</td>\n",
       "    </tr>\n",
       "    <tr>\n",
       "      <th>2676</th>\n",
       "      <td>1872-EBWSC</td>\n",
       "      <td>Female</td>\n",
       "      <td>0</td>\n",
       "      <td>No</td>\n",
       "      <td>No</td>\n",
       "      <td>29</td>\n",
       "      <td>Yes</td>\n",
       "      <td>No</td>\n",
       "      <td>No</td>\n",
       "      <td>No internet service</td>\n",
       "      <td>...</td>\n",
       "      <td>No internet service</td>\n",
       "      <td>No internet service</td>\n",
       "      <td>No internet service</td>\n",
       "      <td>No internet service</td>\n",
       "      <td>One year</td>\n",
       "      <td>No</td>\n",
       "      <td>Mailed check</td>\n",
       "      <td>20.35</td>\n",
       "      <td>617.35</td>\n",
       "      <td>No</td>\n",
       "    </tr>\n",
       "    <tr>\n",
       "      <th>3099</th>\n",
       "      <td>5505-OVWQW</td>\n",
       "      <td>Female</td>\n",
       "      <td>0</td>\n",
       "      <td>No</td>\n",
       "      <td>No</td>\n",
       "      <td>17</td>\n",
       "      <td>Yes</td>\n",
       "      <td>No</td>\n",
       "      <td>No</td>\n",
       "      <td>No internet service</td>\n",
       "      <td>...</td>\n",
       "      <td>No internet service</td>\n",
       "      <td>No internet service</td>\n",
       "      <td>No internet service</td>\n",
       "      <td>No internet service</td>\n",
       "      <td>One year</td>\n",
       "      <td>No</td>\n",
       "      <td>Mailed check</td>\n",
       "      <td>20.15</td>\n",
       "      <td>353.65</td>\n",
       "      <td>No</td>\n",
       "    </tr>\n",
       "    <tr>\n",
       "      <th>3034</th>\n",
       "      <td>7120-RFMVS</td>\n",
       "      <td>Male</td>\n",
       "      <td>0</td>\n",
       "      <td>No</td>\n",
       "      <td>No</td>\n",
       "      <td>1</td>\n",
       "      <td>Yes</td>\n",
       "      <td>Yes</td>\n",
       "      <td>Fiber optic</td>\n",
       "      <td>No</td>\n",
       "      <td>...</td>\n",
       "      <td>No</td>\n",
       "      <td>No</td>\n",
       "      <td>Yes</td>\n",
       "      <td>No</td>\n",
       "      <td>Month-to-month</td>\n",
       "      <td>No</td>\n",
       "      <td>Electronic check</td>\n",
       "      <td>84.50</td>\n",
       "      <td>84.5</td>\n",
       "      <td>Yes</td>\n",
       "    </tr>\n",
       "  </tbody>\n",
       "</table>\n",
       "<p>5 rows × 21 columns</p>\n",
       "</div>"
      ],
      "text/plain": [
       "      customerID  gender  SeniorCitizen Partner Dependents  tenure  \\\n",
       "914   6024-RUGGH    Male              0     Yes        Yes      72   \n",
       "6248  6549-BTYPG  Female              0     Yes         No      60   \n",
       "2676  1872-EBWSC  Female              0      No         No      29   \n",
       "3099  5505-OVWQW  Female              0      No         No      17   \n",
       "3034  7120-RFMVS    Male              0      No         No       1   \n",
       "\n",
       "     PhoneService     MultipleLines InternetService       OnlineSecurity  ...  \\\n",
       "914           Yes               Yes              No  No internet service  ...   \n",
       "6248           No  No phone service             DSL                   No  ...   \n",
       "2676          Yes                No              No  No internet service  ...   \n",
       "3099          Yes                No              No  No internet service  ...   \n",
       "3034          Yes               Yes     Fiber optic                   No  ...   \n",
       "\n",
       "         DeviceProtection          TechSupport          StreamingTV  \\\n",
       "914   No internet service  No internet service  No internet service   \n",
       "6248                  Yes                  Yes                  Yes   \n",
       "2676  No internet service  No internet service  No internet service   \n",
       "3099  No internet service  No internet service  No internet service   \n",
       "3034                   No                   No                  Yes   \n",
       "\n",
       "          StreamingMovies        Contract PaperlessBilling  \\\n",
       "914   No internet service        Two year              Yes   \n",
       "6248                  Yes        Two year               No   \n",
       "2676  No internet service        One year               No   \n",
       "3099  No internet service        One year               No   \n",
       "3034                   No  Month-to-month               No   \n",
       "\n",
       "                  PaymentMethod MonthlyCharges  TotalCharges Churn  \n",
       "914   Bank transfer (automatic)          25.20        1798.9    No  \n",
       "6248    Credit card (automatic)          60.80       3603.45    No  \n",
       "2676               Mailed check          20.35        617.35    No  \n",
       "3099               Mailed check          20.15        353.65    No  \n",
       "3034           Electronic check          84.50          84.5   Yes  \n",
       "\n",
       "[5 rows x 21 columns]"
      ]
     },
     "execution_count": 2,
     "metadata": {},
     "output_type": "execute_result"
    }
   ],
   "source": [
    "df = pd.read_csv('https://raw.githubusercontent.com/codebasics/deep-learning-keras-tf-tutorial/master/11_chrun_prediction/customer_churn.csv')\n",
    "df.sample(5)"
   ]
  },
  {
   "cell_type": "code",
   "execution_count": 3,
   "id": "a51d5b21",
   "metadata": {},
   "outputs": [
    {
     "data": {
      "text/plain": [
       "gender               object\n",
       "SeniorCitizen         int64\n",
       "Partner              object\n",
       "Dependents           object\n",
       "tenure                int64\n",
       "PhoneService         object\n",
       "MultipleLines        object\n",
       "InternetService      object\n",
       "OnlineSecurity       object\n",
       "OnlineBackup         object\n",
       "DeviceProtection     object\n",
       "TechSupport          object\n",
       "StreamingTV          object\n",
       "StreamingMovies      object\n",
       "Contract             object\n",
       "PaperlessBilling     object\n",
       "PaymentMethod        object\n",
       "MonthlyCharges      float64\n",
       "TotalCharges         object\n",
       "Churn                object\n",
       "dtype: object"
      ]
     },
     "execution_count": 3,
     "metadata": {},
     "output_type": "execute_result"
    }
   ],
   "source": [
    "df.drop('customerID', axis='columns', inplace=True)\n",
    "df.dtypes"
   ]
  },
  {
   "cell_type": "code",
   "execution_count": 4,
   "id": "217a5b2c",
   "metadata": {
    "scrolled": false
   },
   "outputs": [
    {
     "name": "stderr",
     "output_type": "stream",
     "text": [
      "c:\\users\\ashok\\appdata\\local\\programs\\python\\python39\\lib\\site-packages\\pandas\\core\\generic.py:5168: SettingWithCopyWarning: \n",
      "A value is trying to be set on a copy of a slice from a DataFrame.\n",
      "Try using .loc[row_indexer,col_indexer] = value instead\n",
      "\n",
      "See the caveats in the documentation: https://pandas.pydata.org/pandas-docs/stable/user_guide/indexing.html#returning-a-view-versus-a-copy\n",
      "  self[name] = value\n"
     ]
    },
    {
     "data": {
      "text/plain": [
       "gender               object\n",
       "SeniorCitizen         int64\n",
       "Partner              object\n",
       "Dependents           object\n",
       "tenure                int64\n",
       "PhoneService         object\n",
       "MultipleLines        object\n",
       "InternetService      object\n",
       "OnlineSecurity       object\n",
       "OnlineBackup         object\n",
       "DeviceProtection     object\n",
       "TechSupport          object\n",
       "StreamingTV          object\n",
       "StreamingMovies      object\n",
       "Contract             object\n",
       "PaperlessBilling     object\n",
       "PaymentMethod        object\n",
       "MonthlyCharges      float64\n",
       "TotalCharges        float64\n",
       "Churn                object\n",
       "dtype: object"
      ]
     },
     "execution_count": 4,
     "metadata": {},
     "output_type": "execute_result"
    }
   ],
   "source": [
    "df1=df[df['TotalCharges']!=' ']\n",
    "df1.TotalCharges=pd.to_numeric(df1.TotalCharges)\n",
    "df1.dtypes"
   ]
  },
  {
   "cell_type": "code",
   "execution_count": 5,
   "id": "10512fee",
   "metadata": {
    "scrolled": false
   },
   "outputs": [
    {
     "name": "stderr",
     "output_type": "stream",
     "text": [
      "<ipython-input-5-a027fa6d225c>:1: UserWarning: Boolean Series key will be reindexed to match DataFrame index.\n",
      "  tenure_churn_No = df1[df.Churn=='No'].tenure\n",
      "<ipython-input-5-a027fa6d225c>:2: UserWarning: Boolean Series key will be reindexed to match DataFrame index.\n",
      "  tenure_churn_Yes = df1[df.Churn=='Yes'].tenure\n"
     ]
    },
    {
     "data": {
      "text/plain": [
       "<matplotlib.legend.Legend at 0x1a05f177fa0>"
      ]
     },
     "execution_count": 5,
     "metadata": {},
     "output_type": "execute_result"
    },
    {
     "data": {
      "image/png": "[encoded data removed]",
      "text/plain": [
       "<Figure size 432x288 with 1 Axes>"
      ]
     },
     "metadata": {
      "needs_background": "light"
     },
     "output_type": "display_data"
    }
   ],
   "source": [
    "tenure_churn_No = df1[df.Churn=='No'].tenure\n",
    "tenure_churn_Yes = df1[df.Churn=='Yes'].tenure\n",
    "\n",
    "plt.xlabel('tenure')\n",
    "plt.ylabel('no of customer')\n",
    "plt.title('Customer churn prediction visualization')\n",
    "plt.hist([tenure_churn_Yes, tenure_churn_No], color=['green','red'], label=['ChurnYes','ChurnNo'])\n",
    "plt.legend()"
   ]
  },
  {
   "cell_type": "code",
   "execution_count": 6,
   "id": "a6032256",
   "metadata": {
    "scrolled": false
   },
   "outputs": [
    {
     "name": "stderr",
     "output_type": "stream",
     "text": [
      "<ipython-input-6-282986524004>:1: UserWarning: Boolean Series key will be reindexed to match DataFrame index.\n",
      "  tenure_churn_No = df1[df.Churn=='No'].MonthlyCharges\n",
      "<ipython-input-6-282986524004>:2: UserWarning: Boolean Series key will be reindexed to match DataFrame index.\n",
      "  tenure_churn_Yes = df1[df.Churn=='Yes'].MonthlyCharges\n"
     ]
    },
    {
     "data": {
      "text/plain": [
       "<matplotlib.legend.Legend at 0x1a0442945b0>"
      ]
     },
     "execution_count": 6,
     "metadata": {},
     "output_type": "execute_result"
    },
    {
     "data": {
      "image/png": "[encoded data removed]",
      "text/plain": [
       "<Figure size 432x288 with 1 Axes>"
      ]
     },
     "metadata": {
      "needs_background": "light"
     },
     "output_type": "display_data"
    }
   ],
   "source": [
    "tenure_churn_No = df1[df.Churn=='No'].MonthlyCharges\n",
    "tenure_churn_Yes = df1[df.Churn=='Yes'].MonthlyCharges\n",
    "\n",
    "plt.xlabel('MonthlyCharges')\n",
    "plt.ylabel('no of customer')\n",
    "plt.title('Customer churn prediction visualization')\n",
    "plt.hist([tenure_churn_Yes, tenure_churn_No], color=['green','red'], label=['ChurnYes','ChurnNo'])\n",
    "plt.legend()"
   ]
  },
  {
   "cell_type": "code",
   "execution_count": 7,
   "id": "69d70710",
   "metadata": {
    "scrolled": true
   },
   "outputs": [
    {
     "name": "stdout",
     "output_type": "stream",
     "text": [
      "gender -  ['Female' 'Male']\n",
      "Partner -  ['Yes' 'No']\n",
      "Dependents -  ['No' 'Yes']\n",
      "PhoneService -  ['No' 'Yes']\n",
      "MultipleLines -  ['No phone service' 'No' 'Yes']\n",
      "InternetService -  ['DSL' 'Fiber optic' 'No']\n",
      "OnlineSecurity -  ['No' 'Yes' 'No internet service']\n",
      "OnlineBackup -  ['Yes' 'No' 'No internet service']\n",
      "DeviceProtection -  ['No' 'Yes' 'No internet service']\n",
      "TechSupport -  ['No' 'Yes' 'No internet service']\n",
      "StreamingTV -  ['No' 'Yes' 'No internet service']\n",
      "StreamingMovies -  ['No' 'Yes' 'No internet service']\n",
      "Contract -  ['Month-to-month' 'One year' 'Two year']\n",
      "PaperlessBilling -  ['Yes' 'No']\n",
      "PaymentMethod -  ['Electronic check' 'Mailed check' 'Bank transfer (automatic)'\n",
      " 'Credit card (automatic)']\n",
      "Churn -  ['No' 'Yes']\n"
     ]
    }
   ],
   "source": [
    "def colObjValues(df):\n",
    "    for column in df:\n",
    "        if df[column].dtypes=='object':\n",
    "            print(column,'- ',df[column].unique())\n",
    "\n",
    "            \n",
    "colObjValues(df1)"
   ]
  },
  {
   "cell_type": "code",
   "execution_count": 8,
   "id": "1fb6f0ff",
   "metadata": {
    "scrolled": false
   },
   "outputs": [
    {
     "name": "stderr",
     "output_type": "stream",
     "text": [
      "c:\\users\\ashok\\appdata\\local\\programs\\python\\python39\\lib\\site-packages\\pandas\\core\\frame.py:4383: SettingWithCopyWarning: \n",
      "A value is trying to be set on a copy of a slice from a DataFrame\n",
      "\n",
      "See the caveats in the documentation: https://pandas.pydata.org/pandas-docs/stable/user_guide/indexing.html#returning-a-view-versus-a-copy\n",
      "  return super().replace(\n"
     ]
    },
    {
     "name": "stdout",
     "output_type": "stream",
     "text": [
      "gender -  ['Female' 'Male']\n",
      "Partner -  ['Yes' 'No']\n",
      "Dependents -  ['No' 'Yes']\n",
      "PhoneService -  ['No' 'Yes']\n",
      "MultipleLines -  ['No' 'Yes']\n",
      "InternetService -  ['DSL' 'Fiber optic' 'No']\n",
      "OnlineSecurity -  ['No' 'Yes']\n",
      "OnlineBackup -  ['Yes' 'No']\n",
      "DeviceProtection -  ['No' 'Yes']\n",
      "TechSupport -  ['No' 'Yes']\n",
      "StreamingTV -  ['No' 'Yes']\n",
      "StreamingMovies -  ['No' 'Yes']\n",
      "Contract -  ['Month-to-month' 'One year' 'Two year']\n",
      "PaperlessBilling -  ['Yes' 'No']\n",
      "PaymentMethod -  ['Electronic check' 'Mailed check' 'Bank transfer (automatic)'\n",
      " 'Credit card (automatic)']\n",
      "Churn -  ['No' 'Yes']\n"
     ]
    }
   ],
   "source": [
    "df1.replace('No internet service','No', inplace=True)\n",
    "df1.replace('No phone service','No', inplace=True)\n",
    "colObjValues(df1)"
   ]
  },
  {
   "cell_type": "code",
   "execution_count": 9,
   "id": "ec39990a",
   "metadata": {
    "scrolled": true
   },
   "outputs": [
    {
     "name": "stderr",
     "output_type": "stream",
     "text": [
      "c:\\users\\ashok\\appdata\\local\\programs\\python\\python39\\lib\\site-packages\\pandas\\core\\series.py:4575: SettingWithCopyWarning: \n",
      "A value is trying to be set on a copy of a slice from a DataFrame\n",
      "\n",
      "See the caveats in the documentation: https://pandas.pydata.org/pandas-docs/stable/user_guide/indexing.html#returning-a-view-versus-a-copy\n",
      "  return super().replace(\n"
     ]
    }
   ],
   "source": [
    "yesnoCols= ['Partner','Dependents','PhoneService', 'MultipleLines','OnlineSecurity','OnlineBackup','DeviceProtection', 'TechSupport', 'StreamingTV', 'StreamingMovies', 'PaperlessBilling', 'Churn']\n",
    "for col in yesnoCols:\n",
    "    df1[col].replace({'Yes':1, 'No':0}, inplace=True)"
   ]
  },
  {
   "cell_type": "code",
   "execution_count": 10,
   "id": "ae3cdab2",
   "metadata": {},
   "outputs": [],
   "source": [
    "df1['gender'].replace({'Female':1,'Male':2}, inplace=True)"
   ]
  },
  {
   "cell_type": "code",
   "execution_count": 11,
   "id": "9b1a909f",
   "metadata": {},
   "outputs": [
    {
     "data": {
      "text/plain": [
       "array([1, 2], dtype=int64)"
      ]
     },
     "execution_count": 11,
     "metadata": {},
     "output_type": "execute_result"
    }
   ],
   "source": [
    "df1['gender'].unique()"
   ]
  },
  {
   "cell_type": "code",
   "execution_count": 12,
   "id": "3c91585e",
   "metadata": {
    "scrolled": false
   },
   "outputs": [
    {
     "name": "stdout",
     "output_type": "stream",
     "text": [
      "Index(['gender', 'SeniorCitizen', 'Partner', 'Dependents', 'tenure',\n",
      "       'PhoneService', 'MultipleLines', 'OnlineSecurity', 'OnlineBackup',\n",
      "       'DeviceProtection', 'TechSupport', 'StreamingTV', 'StreamingMovies',\n",
      "       'PaperlessBilling', 'MonthlyCharges', 'TotalCharges', 'Churn',\n",
      "       'InternetService_DSL', 'InternetService_Fiber optic',\n",
      "       'InternetService_No', 'Contract_Month-to-month', 'Contract_One year',\n",
      "       'Contract_Two year', 'PaymentMethod_Bank transfer (automatic)',\n",
      "       'PaymentMethod_Credit card (automatic)',\n",
      "       'PaymentMethod_Electronic check', 'PaymentMethod_Mailed check'],\n",
      "      dtype='object')\n",
      "gender                                       int64\n",
      "SeniorCitizen                                int64\n",
      "Partner                                      int64\n",
      "Dependents                                   int64\n",
      "tenure                                       int64\n",
      "PhoneService                                 int64\n",
      "MultipleLines                                int64\n",
      "OnlineSecurity                               int64\n",
      "OnlineBackup                                 int64\n",
      "DeviceProtection                             int64\n",
      "TechSupport                                  int64\n",
      "StreamingTV                                  int64\n",
      "StreamingMovies                              int64\n",
      "PaperlessBilling                             int64\n",
      "MonthlyCharges                             float64\n",
      "TotalCharges                               float64\n",
      "Churn                                        int64\n",
      "InternetService_DSL                          uint8\n",
      "InternetService_Fiber optic                  uint8\n",
      "InternetService_No                           uint8\n",
      "Contract_Month-to-month                      uint8\n",
      "Contract_One year                            uint8\n",
      "Contract_Two year                            uint8\n",
      "PaymentMethod_Bank transfer (automatic)      uint8\n",
      "PaymentMethod_Credit card (automatic)        uint8\n",
      "PaymentMethod_Electronic check               uint8\n",
      "PaymentMethod_Mailed check                   uint8\n",
      "dtype: object\n"
     ]
    }
   ],
   "source": [
    "df2 = pd.get_dummies(data=df1, columns=['InternetService', 'Contract', 'PaymentMethod'])\n",
    "print(df2.columns)\n",
    "print(df2.dtypes)"
   ]
  },
  {
   "cell_type": "code",
   "execution_count": 13,
   "id": "edfc8afa",
   "metadata": {
    "scrolled": true
   },
   "outputs": [
    {
     "data": {
      "text/html": [
       "<div>\n",
       "<style scoped>\n",
       "    .dataframe tbody tr th:only-of-type {\n",
       "        vertical-align: middle;\n",
       "    }\n",
       "\n",
       "    .dataframe tbody tr th {\n",
       "        vertical-align: top;\n",
       "    }\n",
       "\n",
       "    .dataframe thead th {\n",
       "        text-align: right;\n",
       "    }\n",
       "</style>\n",
       "<table border=\"1\" class=\"dataframe\">\n",
       "  <thead>\n",
       "    <tr style=\"text-align: right;\">\n",
       "      <th></th>\n",
       "      <th>gender</th>\n",
       "      <th>SeniorCitizen</th>\n",
       "      <th>Partner</th>\n",
       "      <th>Dependents</th>\n",
       "      <th>tenure</th>\n",
       "      <th>PhoneService</th>\n",
       "      <th>MultipleLines</th>\n",
       "      <th>OnlineSecurity</th>\n",
       "      <th>OnlineBackup</th>\n",
       "      <th>DeviceProtection</th>\n",
       "      <th>...</th>\n",
       "      <th>InternetService_DSL</th>\n",
       "      <th>InternetService_Fiber optic</th>\n",
       "      <th>InternetService_No</th>\n",
       "      <th>Contract_Month-to-month</th>\n",
       "      <th>Contract_One year</th>\n",
       "      <th>Contract_Two year</th>\n",
       "      <th>PaymentMethod_Bank transfer (automatic)</th>\n",
       "      <th>PaymentMethod_Credit card (automatic)</th>\n",
       "      <th>PaymentMethod_Electronic check</th>\n",
       "      <th>PaymentMethod_Mailed check</th>\n",
       "    </tr>\n",
       "  </thead>\n",
       "  <tbody>\n",
       "    <tr>\n",
       "      <th>6286</th>\n",
       "      <td>1</td>\n",
       "      <td>0</td>\n",
       "      <td>0</td>\n",
       "      <td>1</td>\n",
       "      <td>0.098592</td>\n",
       "      <td>1</td>\n",
       "      <td>0</td>\n",
       "      <td>0</td>\n",
       "      <td>0</td>\n",
       "      <td>0</td>\n",
       "      <td>...</td>\n",
       "      <td>0</td>\n",
       "      <td>0</td>\n",
       "      <td>1</td>\n",
       "      <td>1</td>\n",
       "      <td>0</td>\n",
       "      <td>0</td>\n",
       "      <td>0</td>\n",
       "      <td>0</td>\n",
       "      <td>0</td>\n",
       "      <td>1</td>\n",
       "    </tr>\n",
       "    <tr>\n",
       "      <th>597</th>\n",
       "      <td>2</td>\n",
       "      <td>0</td>\n",
       "      <td>0</td>\n",
       "      <td>0</td>\n",
       "      <td>0.042254</td>\n",
       "      <td>1</td>\n",
       "      <td>1</td>\n",
       "      <td>0</td>\n",
       "      <td>0</td>\n",
       "      <td>0</td>\n",
       "      <td>...</td>\n",
       "      <td>1</td>\n",
       "      <td>0</td>\n",
       "      <td>0</td>\n",
       "      <td>1</td>\n",
       "      <td>0</td>\n",
       "      <td>0</td>\n",
       "      <td>0</td>\n",
       "      <td>0</td>\n",
       "      <td>0</td>\n",
       "      <td>1</td>\n",
       "    </tr>\n",
       "    <tr>\n",
       "      <th>2369</th>\n",
       "      <td>2</td>\n",
       "      <td>0</td>\n",
       "      <td>0</td>\n",
       "      <td>0</td>\n",
       "      <td>0.887324</td>\n",
       "      <td>1</td>\n",
       "      <td>1</td>\n",
       "      <td>1</td>\n",
       "      <td>0</td>\n",
       "      <td>1</td>\n",
       "      <td>...</td>\n",
       "      <td>0</td>\n",
       "      <td>1</td>\n",
       "      <td>0</td>\n",
       "      <td>0</td>\n",
       "      <td>0</td>\n",
       "      <td>1</td>\n",
       "      <td>0</td>\n",
       "      <td>1</td>\n",
       "      <td>0</td>\n",
       "      <td>0</td>\n",
       "    </tr>\n",
       "  </tbody>\n",
       "</table>\n",
       "<p>3 rows × 27 columns</p>\n",
       "</div>"
      ],
      "text/plain": [
       "      gender  SeniorCitizen  Partner  Dependents    tenure  PhoneService  \\\n",
       "6286       1              0        0           1  0.098592             1   \n",
       "597        2              0        0           0  0.042254             1   \n",
       "2369       2              0        0           0  0.887324             1   \n",
       "\n",
       "      MultipleLines  OnlineSecurity  OnlineBackup  DeviceProtection  ...  \\\n",
       "6286              0               0             0                 0  ...   \n",
       "597               1               0             0                 0  ...   \n",
       "2369              1               1             0                 1  ...   \n",
       "\n",
       "      InternetService_DSL  InternetService_Fiber optic  InternetService_No  \\\n",
       "6286                    0                            0                   1   \n",
       "597                     1                            0                   0   \n",
       "2369                    0                            1                   0   \n",
       "\n",
       "      Contract_Month-to-month  Contract_One year  Contract_Two year  \\\n",
       "6286                        1                  0                  0   \n",
       "597                         1                  0                  0   \n",
       "2369                        0                  0                  1   \n",
       "\n",
       "      PaymentMethod_Bank transfer (automatic)  \\\n",
       "6286                                        0   \n",
       "597                                         0   \n",
       "2369                                        0   \n",
       "\n",
       "      PaymentMethod_Credit card (automatic)  PaymentMethod_Electronic check  \\\n",
       "6286                                      0                               0   \n",
       "597                                       0                               0   \n",
       "2369                                      1                               0   \n",
       "\n",
       "      PaymentMethod_Mailed check  \n",
       "6286                           1  \n",
       "597                            1  \n",
       "2369                           0  \n",
       "\n",
       "[3 rows x 27 columns]"
      ]
     },
     "execution_count": 13,
     "metadata": {},
     "output_type": "execute_result"
    }
   ],
   "source": [
    "cols2scale = ['tenure', 'MonthlyCharges', 'TotalCharges']\n",
    "\n",
    "from sklearn.preprocessing import MinMaxScaler\n",
    "scaler= MinMaxScaler()\n",
    "df2[cols2scale] = scaler.fit_transform(df2[cols2scale])\n",
    "df2.sample(3)"
   ]
  },
  {
   "cell_type": "code",
   "execution_count": 14,
   "id": "a1dc0b9d",
   "metadata": {},
   "outputs": [],
   "source": [
    "X= df2.drop('Churn', axis='columns')\n",
    "y=df2['Churn']"
   ]
  },
  {
   "cell_type": "code",
   "execution_count": 15,
   "id": "6f5d39b8",
   "metadata": {},
   "outputs": [],
   "source": [
    "from sklearn.model_selection import train_test_split\n",
    "X_train, X_test, y_train, y_test = train_test_split(X,y,test_size=0.2, random_state=9)"
   ]
  },
  {
   "cell_type": "code",
   "execution_count": 16,
   "id": "293390d9",
   "metadata": {},
   "outputs": [
    {
     "name": "stdout",
     "output_type": "stream",
     "text": [
      "(5625, 26) (5625,)\n"
     ]
    }
   ],
   "source": [
    "print(X_train.shape, y_train.shape)"
   ]
  },
  {
   "cell_type": "code",
   "execution_count": 17,
   "id": "5f5cf5bd",
   "metadata": {
    "scrolled": true
   },
   "outputs": [
    {
     "name": "stdout",
     "output_type": "stream",
     "text": [
      "Epoch 1/5\n",
      "176/176 [==============================] - 6s 8ms/step - loss: 0.5086 - accuracy: 0.7550\n",
      "Epoch 2/5\n",
      "176/176 [==============================] - 1s 7ms/step - loss: 0.4363 - accuracy: 0.7927: 0s - loss: 0.4363 - accuracy: 0.79\n",
      "Epoch 3/5\n",
      "176/176 [==============================] - 1s 6ms/step - loss: 0.4280 - accuracy: 0.7979\n",
      "Epoch 4/5\n",
      "176/176 [==============================] - 1s 6ms/step - loss: 0.4242 - accuracy: 0.7972\n",
      "Epoch 5/5\n",
      "176/176 [==============================] - 1s 5ms/step - loss: 0.4219 - accuracy: 0.7991\n"
     ]
    },
    {
     "data": {
      "text/plain": [
       "<tensorflow.python.keras.callbacks.History at 0x1a076c0e8b0>"
      ]
     },
     "execution_count": 17,
     "metadata": {},
     "output_type": "execute_result"
    }
   ],
   "source": [
    "import tensorflow as tf\n",
    "from tensorflow import keras\n",
    "\n",
    "model = keras.Sequential([\n",
    "    keras.layers.Dense(20, input_shape=(26,), activation='relu'),\n",
    "    keras.layers.Dense(1, activation='sigmoid'),\n",
    "])\n",
    "\n",
    "model.compile(optimizer='adam',\n",
    "             loss='binary_crossentropy',\n",
    "             metrics=['accuracy'])\n",
    "\n",
    "model.fit(X_train,y_train,epochs=5)"
   ]
  },
  {
   "cell_type": "code",
   "execution_count": 18,
   "id": "b1ae0fc1",
   "metadata": {
    "scrolled": false
   },
   "outputs": [
    {
     "name": "stdout",
     "output_type": "stream",
     "text": [
      "Epoch 1/100\n",
      "176/176 [==============================] - 1s 5ms/step - loss: 0.4202 - accuracy: 0.8021\n",
      "Epoch 2/100\n",
      "176/176 [==============================] - 1s 5ms/step - loss: 0.4198 - accuracy: 0.8011\n",
      "Epoch 3/100\n",
      "176/176 [==============================] - 1s 5ms/step - loss: 0.4195 - accuracy: 0.8020\n",
      "Epoch 4/100\n",
      "176/176 [==============================] - 1s 5ms/step - loss: 0.4178 - accuracy: 0.8020\n",
      "Epoch 5/100\n",
      "176/176 [==============================] - 1s 7ms/step - loss: 0.4173 - accuracy: 0.8030: 0s - loss: 0.415\n",
      "Epoch 6/100\n",
      "176/176 [==============================] - 2s 9ms/step - loss: 0.4176 - accuracy: 0.8036: 0s - loss: 0.4169 - accu\n",
      "Epoch 7/100\n",
      "176/176 [==============================] - 1s 8ms/step - loss: 0.4161 - accuracy: 0.8046\n",
      "Epoch 8/100\n",
      "176/176 [==============================] - 1s 5ms/step - loss: 0.4152 - accuracy: 0.8037\n",
      "Epoch 9/100\n",
      "176/176 [==============================] - 2s 12ms/step - loss: 0.4147 - accuracy: 0.8055\n",
      "Epoch 10/100\n",
      "176/176 [==============================] - 2s 9ms/step - loss: 0.4142 - accuracy: 0.8055\n",
      "Epoch 11/100\n",
      "176/176 [==============================] - 1s 8ms/step - loss: 0.4135 - accuracy: 0.8041\n",
      "Epoch 12/100\n",
      "176/176 [==============================] - 1s 5ms/step - loss: 0.4127 - accuracy: 0.8068\n",
      "Epoch 13/100\n",
      "176/176 [==============================] - 2s 13ms/step - loss: 0.4128 - accuracy: 0.8073\n",
      "Epoch 14/100\n",
      "176/176 [==============================] - 1s 8ms/step - loss: 0.4123 - accuracy: 0.8048\n",
      "Epoch 15/100\n",
      "176/176 [==============================] - 1s 8ms/step - loss: 0.4119 - accuracy: 0.8057\n",
      "Epoch 16/100\n",
      "176/176 [==============================] - 1s 8ms/step - loss: 0.4112 - accuracy: 0.8071\n",
      "Epoch 17/100\n",
      "176/176 [==============================] - 2s 13ms/step - loss: 0.4106 - accuracy: 0.8055 1s - loss: 0.4032 - accuracy:  - ETA: 1s - loss: 0.4 - ETA: 0s - loss: 0.4081 \n",
      "Epoch 18/100\n",
      "176/176 [==============================] - 2s 10ms/step - loss: 0.4100 - accuracy: 0.8075ETA: 0s - loss: 0.4102 - accuracy\n",
      "Epoch 19/100\n",
      "176/176 [==============================] - 2s 13ms/step - loss: 0.4098 - accuracy: 0.8068 1s - loss: 0.4121 - accuracy: 0. - ETA: 0s - loss: - ETA: 0s - loss: 0.4090 - accura\n",
      "Epoch 20/100\n",
      "176/176 [==============================] - 2s 10ms/step - loss: 0.4100 - accuracy: 0.8062\n",
      "Epoch 21/100\n",
      "176/176 [==============================] - 1s 6ms/step - loss: 0.4088 - accuracy: 0.8055\n",
      "Epoch 22/100\n",
      "176/176 [==============================] - 1s 6ms/step - loss: 0.4086 - accuracy: 0.8080\n",
      "Epoch 23/100\n",
      "176/176 [==============================] - 1s 6ms/step - loss: 0.4084 - accuracy: 0.8071\n",
      "Epoch 24/100\n",
      "176/176 [==============================] - 1s 6ms/step - loss: 0.4081 - accuracy: 0.8066\n",
      "Epoch 25/100\n",
      "176/176 [==============================] - 1s 6ms/step - loss: 0.4074 - accuracy: 0.8071\n",
      "Epoch 26/100\n",
      "176/176 [==============================] - 1s 6ms/step - loss: 0.4075 - accuracy: 0.8052: \n",
      "Epoch 27/100\n",
      "176/176 [==============================] - ETA: 0s - loss: 0.4077 - accuracy: 0.80 - 1s 6ms/step - loss: 0.4071 - accuracy: 0.8076\n",
      "Epoch 28/100\n",
      "176/176 [==============================] - 1s 6ms/step - loss: 0.4067 - accuracy: 0.8085\n",
      "Epoch 29/100\n",
      "176/176 [==============================] - 1s 6ms/step - loss: 0.4065 - accuracy: 0.8076\n",
      "Epoch 30/100\n",
      "176/176 [==============================] - 1s 7ms/step - loss: 0.4067 - accuracy: 0.8066\n",
      "Epoch 31/100\n",
      "176/176 [==============================] - 1s 6ms/step - loss: 0.4054 - accuracy: 0.8084\n",
      "Epoch 32/100\n",
      "176/176 [==============================] - 1s 6ms/step - loss: 0.4048 - accuracy: 0.8082\n",
      "Epoch 33/100\n",
      "176/176 [==============================] - 1s 5ms/step - loss: 0.4048 - accuracy: 0.8062\n",
      "Epoch 34/100\n",
      "176/176 [==============================] - 1s 6ms/step - loss: 0.4038 - accuracy: 0.8103\n",
      "Epoch 35/100\n",
      "176/176 [==============================] - 1s 5ms/step - loss: 0.4040 - accuracy: 0.8080\n",
      "Epoch 36/100\n",
      "176/176 [==============================] - 1s 6ms/step - loss: 0.4039 - accuracy: 0.8078: 0s -\n",
      "Epoch 37/100\n",
      "176/176 [==============================] - 1s 6ms/step - loss: 0.4036 - accuracy: 0.8068\n",
      "Epoch 38/100\n",
      "176/176 [==============================] - 1s 6ms/step - loss: 0.4033 - accuracy: 0.8073\n",
      "Epoch 39/100\n",
      "176/176 [==============================] - 1s 5ms/step - loss: 0.4029 - accuracy: 0.8071\n",
      "Epoch 40/100\n",
      "176/176 [==============================] - 1s 6ms/step - loss: 0.4025 - accuracy: 0.8085\n",
      "Epoch 41/100\n",
      "176/176 [==============================] - 1s 5ms/step - loss: 0.4025 - accuracy: 0.8100\n",
      "Epoch 42/100\n",
      "176/176 [==============================] - 1s 5ms/step - loss: 0.4021 - accuracy: 0.8103\n",
      "Epoch 43/100\n",
      "176/176 [==============================] - 1s 6ms/step - loss: 0.4015 - accuracy: 0.8105\n",
      "Epoch 44/100\n",
      "176/176 [==============================] - 1s 6ms/step - loss: 0.4021 - accuracy: 0.8085\n",
      "Epoch 45/100\n",
      "176/176 [==============================] - 1s 5ms/step - loss: 0.4012 - accuracy: 0.8116\n",
      "Epoch 46/100\n",
      "176/176 [==============================] - 1s 6ms/step - loss: 0.4019 - accuracy: 0.8076\n",
      "Epoch 47/100\n",
      "176/176 [==============================] - 1s 6ms/step - loss: 0.4011 - accuracy: 0.8089\n",
      "Epoch 48/100\n",
      "176/176 [==============================] - 1s 7ms/step - loss: 0.4007 - accuracy: 0.8092\n",
      "Epoch 49/100\n",
      "176/176 [==============================] - 1s 7ms/step - loss: 0.4006 - accuracy: 0.8108\n",
      "Epoch 50/100\n",
      "176/176 [==============================] - 1s 7ms/step - loss: 0.3996 - accuracy: 0.8116\n",
      "Epoch 51/100\n",
      "176/176 [==============================] - 1s 6ms/step - loss: 0.3998 - accuracy: 0.8114: 0s - loss: 0.4 - ETA: 0s - loss: 0.3978 - accu\n",
      "Epoch 52/100\n",
      "176/176 [==============================] - 1s 6ms/step - loss: 0.3998 - accuracy: 0.8110\n",
      "Epoch 53/100\n",
      "176/176 [==============================] - 1s 6ms/step - loss: 0.3995 - accuracy: 0.8105\n",
      "Epoch 54/100\n",
      "176/176 [==============================] - 1s 6ms/step - loss: 0.3995 - accuracy: 0.8096\n",
      "Epoch 55/100\n",
      "176/176 [==============================] - 1s 5ms/step - loss: 0.3989 - accuracy: 0.8094\n",
      "Epoch 56/100\n",
      "176/176 [==============================] - 1s 6ms/step - loss: 0.3983 - accuracy: 0.8100\n",
      "Epoch 57/100\n",
      "176/176 [==============================] - 1s 6ms/step - loss: 0.3985 - accuracy: 0.8108\n",
      "Epoch 58/100\n",
      "176/176 [==============================] - 1s 6ms/step - loss: 0.3979 - accuracy: 0.8112\n",
      "Epoch 59/100\n",
      "176/176 [==============================] - 1s 5ms/step - loss: 0.3983 - accuracy: 0.8098\n",
      "Epoch 60/100\n",
      "176/176 [==============================] - 1s 6ms/step - loss: 0.3973 - accuracy: 0.8100: 0s\n",
      "Epoch 61/100\n",
      "176/176 [==============================] - 1s 5ms/step - loss: 0.3973 - accuracy: 0.8101\n",
      "Epoch 62/100\n",
      "176/176 [==============================] - 1s 5ms/step - loss: 0.3978 - accuracy: 0.8121\n",
      "Epoch 63/100\n",
      "176/176 [==============================] - 1s 5ms/step - loss: 0.3972 - accuracy: 0.8132\n",
      "Epoch 64/100\n",
      "176/176 [==============================] - 1s 5ms/step - loss: 0.3974 - accuracy: 0.8101\n",
      "Epoch 65/100\n",
      "176/176 [==============================] - 1s 5ms/step - loss: 0.3966 - accuracy: 0.8100\n",
      "Epoch 66/100\n",
      "176/176 [==============================] - 1s 5ms/step - loss: 0.3965 - accuracy: 0.8101\n",
      "Epoch 67/100\n",
      "176/176 [==============================] - 1s 6ms/step - loss: 0.3966 - accuracy: 0.8116\n",
      "Epoch 68/100\n",
      "176/176 [==============================] - 1s 6ms/step - loss: 0.3962 - accuracy: 0.8123\n",
      "Epoch 69/100\n",
      "176/176 [==============================] - 1s 6ms/step - loss: 0.3954 - accuracy: 0.8144\n",
      "Epoch 70/100\n",
      "176/176 [==============================] - 1s 6ms/step - loss: 0.3963 - accuracy: 0.8105\n",
      "Epoch 71/100\n",
      "176/176 [==============================] - 1s 6ms/step - loss: 0.3952 - accuracy: 0.8123\n",
      "Epoch 72/100\n",
      "176/176 [==============================] - 1s 6ms/step - loss: 0.3953 - accuracy: 0.8142\n",
      "Epoch 73/100\n",
      "176/176 [==============================] - 1s 6ms/step - loss: 0.3955 - accuracy: 0.8123: 0s\n",
      "Epoch 74/100\n",
      "176/176 [==============================] - 1s 6ms/step - loss: 0.3953 - accuracy: 0.8119: 0s\n",
      "Epoch 75/100\n",
      "176/176 [==============================] - 1s 5ms/step - loss: 0.3950 - accuracy: 0.8135\n",
      "Epoch 76/100\n",
      "176/176 [==============================] - 1s 5ms/step - loss: 0.3948 - accuracy: 0.8142\n",
      "Epoch 77/100\n",
      "176/176 [==============================] - 1s 6ms/step - loss: 0.3941 - accuracy: 0.8117\n",
      "Epoch 78/100\n",
      "176/176 [==============================] - 1s 8ms/step - loss: 0.3942 - accuracy: 0.8137\n",
      "Epoch 79/100\n",
      "176/176 [==============================] - 1s 8ms/step - loss: 0.3943 - accuracy: 0.8116: 0s - loss: 0.3\n",
      "Epoch 80/100\n",
      "176/176 [==============================] - 1s 8ms/step - loss: 0.3948 - accuracy: 0.8133: 0s - l\n",
      "Epoch 81/100\n",
      "176/176 [==============================] - 1s 6ms/step - loss: 0.3936 - accuracy: 0.8116\n",
      "Epoch 82/100\n",
      "176/176 [==============================] - 1s 6ms/step - loss: 0.3937 - accuracy: 0.8124\n",
      "Epoch 83/100\n",
      "176/176 [==============================] - 1s 5ms/step - loss: 0.3935 - accuracy: 0.8119\n",
      "Epoch 84/100\n",
      "176/176 [==============================] - 1s 5ms/step - loss: 0.3936 - accuracy: 0.8149\n",
      "Epoch 85/100\n",
      "176/176 [==============================] - 1s 5ms/step - loss: 0.3941 - accuracy: 0.8139\n",
      "Epoch 86/100\n",
      "176/176 [==============================] - ETA: 0s - loss: 0.3930 - accuracy: 0.81 - 1s 6ms/step - loss: 0.3935 - accuracy: 0.8124\n",
      "Epoch 87/100\n",
      "176/176 [==============================] - 1s 6ms/step - loss: 0.3930 - accuracy: 0.8137\n",
      "Epoch 88/100\n",
      "176/176 [==============================] - 1s 5ms/step - loss: 0.3926 - accuracy: 0.8116\n",
      "Epoch 89/100\n",
      "176/176 [==============================] - 1s 5ms/step - loss: 0.3926 - accuracy: 0.8126\n",
      "Epoch 90/100\n",
      "176/176 [==============================] - 1s 5ms/step - loss: 0.3926 - accuracy: 0.8148\n",
      "Epoch 91/100\n",
      "176/176 [==============================] - 1s 5ms/step - loss: 0.3918 - accuracy: 0.8151\n",
      "Epoch 92/100\n",
      "176/176 [==============================] - 1s 5ms/step - loss: 0.3917 - accuracy: 0.8148\n",
      "Epoch 93/100\n",
      "176/176 [==============================] - 1s 5ms/step - loss: 0.3929 - accuracy: 0.8140\n",
      "Epoch 94/100\n",
      "176/176 [==============================] - 1s 5ms/step - loss: 0.3920 - accuracy: 0.8148\n",
      "Epoch 95/100\n",
      "176/176 [==============================] - 1s 5ms/step - loss: 0.3917 - accuracy: 0.8160\n",
      "Epoch 96/100\n",
      "176/176 [==============================] - 1s 5ms/step - loss: 0.3924 - accuracy: 0.8148\n",
      "Epoch 97/100\n",
      "176/176 [==============================] - 1s 5ms/step - loss: 0.3911 - accuracy: 0.8148\n",
      "Epoch 98/100\n",
      "176/176 [==============================] - 1s 5ms/step - loss: 0.3910 - accuracy: 0.8178\n",
      "Epoch 99/100\n",
      "176/176 [==============================] - 1s 6ms/step - loss: 0.3912 - accuracy: 0.8160\n",
      "Epoch 100/100\n",
      "176/176 [==============================] - 1s 7ms/step - loss: 0.3903 - accuracy: 0.8155\n"
     ]
    },
    {
     "data": {
      "text/plain": [
       "<tensorflow.python.keras.callbacks.History at 0x1a078176820>"
      ]
     },
     "execution_count": 18,
     "metadata": {},
     "output_type": "execute_result"
    }
   ],
   "source": [
    "model.fit(X_train,y_train,epochs=100)"
   ]
  },
  {
   "cell_type": "code",
   "execution_count": 19,
   "id": "7dfa6ac7",
   "metadata": {},
   "outputs": [
    {
     "name": "stdout",
     "output_type": "stream",
     "text": [
      "44/44 [==============================] - 1s 5ms/step - loss: 0.4055 - accuracy: 0.8124\n"
     ]
    },
    {
     "data": {
      "text/plain": [
       "[0.40547195076942444, 0.8123667240142822]"
      ]
     },
     "execution_count": 19,
     "metadata": {},
     "output_type": "execute_result"
    }
   ],
   "source": [
    "model.evaluate(X_test, y_test)"
   ]
  },
  {
   "cell_type": "code",
   "execution_count": 20,
   "id": "bd5cbc11",
   "metadata": {
    "scrolled": true
   },
   "outputs": [
    {
     "name": "stdout",
     "output_type": "stream",
     "text": [
      "[0, 0, 0, 0, 0, 0, 0, 0, 0, 0, 1, 1, 0, 0, 1, 0, 0, 1, 1, 0, 0, 0, 0, 1, 0, 1, 0, 1, 1, 0, 0, 1, 1, 0, 0, 0, 0, 0, 0, 0, 0, 0, 0, 0, 0, 0, 0, 0, 0, 1, 0, 0, 0, 1, 1, 1, 0, 0, 0, 1, 0, 1, 0, 1, 0] 361     0\n",
      "4718    0\n",
      "5101    0\n",
      "1514    0\n",
      "3296    0\n",
      "       ..\n",
      "3507    0\n",
      "4535    1\n",
      "2160    0\n",
      "489     1\n",
      "3123    0\n",
      "Name: Churn, Length: 65, dtype: int64\n"
     ]
    }
   ],
   "source": [
    "yp = model.predict(X_test)\n",
    "ypred=[]\n",
    "for e in yp:\n",
    "    if e>0.5:\n",
    "        ypred.append(1)\n",
    "    else:\n",
    "        ypred.append(0)\n",
    "\n",
    "print(ypred[15:80], y_test[15:80])"
   ]
  },
  {
   "cell_type": "code",
   "execution_count": 21,
   "id": "4b9ca790",
   "metadata": {
    "scrolled": true
   },
   "outputs": [
    {
     "name": "stdout",
     "output_type": "stream",
     "text": [
      "              precision    recall  f1-score   support\n",
      "\n",
      "           0       0.86      0.89      0.88      1041\n",
      "           1       0.65      0.59      0.62       366\n",
      "\n",
      "    accuracy                           0.81      1407\n",
      "   macro avg       0.76      0.74      0.75      1407\n",
      "weighted avg       0.81      0.81      0.81      1407\n",
      "\n"
     ]
    }
   ],
   "source": [
    "from sklearn.metrics import confusion_matrix, classification_report\n",
    "print(classification_report(y_test, ypred))"
   ]
  },
  {
   "cell_type": "code",
   "execution_count": 22,
   "id": "e4fb6764",
   "metadata": {
    "scrolled": true
   },
   "outputs": [
    {
     "data": {
      "text/plain": [
       "<AxesSubplot:>"
      ]
     },
     "execution_count": 22,
     "metadata": {},
     "output_type": "execute_result"
    },
    {
     "data": {
      "image/png": "[encoded data removed]",
      "text/plain": [
       "<Figure size 432x288 with 2 Axes>"
      ]
     },
     "metadata": {
      "needs_background": "light"
     },
     "output_type": "display_data"
    }
   ],
   "source": [
    "import seaborn as sn\n",
    "cm = tf.math.confusion_matrix(labels=y_test, predictions=ypred)\n",
    "sn.heatmap(cm,annot=True,fmt='d')"
   ]
  },
  {
   "cell_type": "markdown",
   "id": "ee1f0369",
   "metadata": {},
   "source": [
    "handling imbalance"
   ]
  },
  {
   "cell_type": "code",
   "execution_count": 33,
   "id": "c0667221",
   "metadata": {
    "scrolled": true
   },
   "outputs": [
    {
     "name": "stdout",
     "output_type": "stream",
     "text": [
      "0    5163\n",
      "1    1869\n",
      "Name: Churn, dtype: int64\n"
     ]
    }
   ],
   "source": [
    "print(df2.Churn.value_counts())\n",
    "##no. of points for class 1 is lesser, \n",
    "## Under Sampling\n",
    "dfC0= df2[df2['Churn']==0]\n",
    "dfC1= df2[df2['Churn']==1]\n",
    "dfC0=dfC0.sample(1869)"
   ]
  },
  {
   "cell_type": "code",
   "execution_count": 35,
   "id": "ae4f58d6",
   "metadata": {},
   "outputs": [],
   "source": [
    "df3=pd.concat([dfC0,dfC1], axis=0)"
   ]
  },
  {
   "cell_type": "code",
   "execution_count": 37,
   "id": "9ec60bbd",
   "metadata": {},
   "outputs": [
    {
     "name": "stdout",
     "output_type": "stream",
     "text": [
      "1    1495\n",
      "0    1495\n",
      "Name: Churn, dtype: int64 \n",
      " 1    374\n",
      "0    374\n",
      "Name: Churn, dtype: int64\n"
     ]
    }
   ],
   "source": [
    "X= df3.drop('Churn', axis='columns')\n",
    "y=df3['Churn']\n",
    "X_train, X_test, y_train, y_test = train_test_split(X,y,test_size=0.2, random_state=9, stratify=y) ##stratify for balanced split\n",
    "print(y_train.value_counts(),'\\n', y_test.value_counts())"
   ]
  },
  {
   "cell_type": "code",
   "execution_count": 38,
   "id": "336887ba",
   "metadata": {
    "scrolled": false
   },
   "outputs": [
    {
     "name": "stdout",
     "output_type": "stream",
     "text": [
      "Epoch 1/100\n",
      "94/94 [==============================] - 0s 5ms/step - loss: 0.4670 - accuracy: 0.7742\n",
      "Epoch 2/100\n",
      "94/94 [==============================] - 1s 5ms/step - loss: 0.4576 - accuracy: 0.7803\n",
      "Epoch 3/100\n",
      "94/94 [==============================] - 0s 5ms/step - loss: 0.4553 - accuracy: 0.7870\n",
      "Epoch 4/100\n",
      "94/94 [==============================] - 1s 5ms/step - loss: 0.4534 - accuracy: 0.7829\n",
      "Epoch 5/100\n",
      "94/94 [==============================] - 1s 7ms/step - loss: 0.4540 - accuracy: 0.7806\n",
      "Epoch 6/100\n",
      "94/94 [==============================] - 0s 5ms/step - loss: 0.4514 - accuracy: 0.7849\n",
      "Epoch 7/100\n",
      "94/94 [==============================] - 0s 5ms/step - loss: 0.4517 - accuracy: 0.7839\n",
      "Epoch 8/100\n",
      "94/94 [==============================] - ETA: 0s - loss: 0.4493 - accuracy: 0.78 - 0s 5ms/step - loss: 0.4506 - accuracy: 0.7836\n",
      "Epoch 9/100\n",
      "94/94 [==============================] - 1s 9ms/step - loss: 0.4508 - accuracy: 0.7880\n",
      "Epoch 10/100\n",
      "94/94 [==============================] - 5s 54ms/step - loss: 0.4499 - accuracy: 0.7856 0s - loss: 0.4477 - accura - ETA: 0s - loss: 0.4504 - \n",
      "Epoch 11/100\n",
      "94/94 [==============================] - 3s 37ms/step - loss: 0.4489 - accuracy: 0.7846 0s - loss: 0.4496 - accuracy: 0.78\n",
      "Epoch 12/100\n",
      "94/94 [==============================] - 2s 21ms/step - loss: 0.4478 - accuracy: 0.7846 0s - loss: 0.4462 - accuracy\n",
      "Epoch 13/100\n",
      "94/94 [==============================] - 1s 12ms/step - loss: 0.4494 - accuracy: 0.7883\n",
      "Epoch 14/100\n",
      "94/94 [==============================] - 1s 9ms/step - loss: 0.4477 - accuracy: 0.7863\n",
      "Epoch 15/100\n",
      "94/94 [==============================] - 1s 7ms/step - loss: 0.4481 - accuracy: 0.7886: 0s - loss: 0.4548 - \n",
      "Epoch 16/100\n",
      "94/94 [==============================] - 1s 7ms/step - loss: 0.4473 - accuracy: 0.7880\n",
      "Epoch 17/100\n",
      "94/94 [==============================] - 1s 6ms/step - loss: 0.4489 - accuracy: 0.7893: 0s - loss: 0.4352 - accu\n",
      "Epoch 18/100\n",
      "94/94 [==============================] - 1s 7ms/step - loss: 0.4457 - accuracy: 0.7880\n",
      "Epoch 19/100\n",
      "94/94 [==============================] - 1s 6ms/step - loss: 0.4468 - accuracy: 0.7860\n",
      "Epoch 20/100\n",
      "94/94 [==============================] - 1s 6ms/step - loss: 0.4458 - accuracy: 0.7886\n",
      "Epoch 21/100\n",
      "94/94 [==============================] - 1s 9ms/step - loss: 0.4455 - accuracy: 0.7883\n",
      "Epoch 22/100\n",
      "94/94 [==============================] - 1s 7ms/step - loss: 0.4456 - accuracy: 0.7866\n",
      "Epoch 23/100\n",
      "94/94 [==============================] - 1s 6ms/step - loss: 0.4448 - accuracy: 0.7866\n",
      "Epoch 24/100\n",
      "94/94 [==============================] - 1s 6ms/step - loss: 0.4443 - accuracy: 0.7900\n",
      "Epoch 25/100\n",
      "94/94 [==============================] - 0s 5ms/step - loss: 0.4441 - accuracy: 0.7906\n",
      "Epoch 26/100\n",
      "94/94 [==============================] - 0s 5ms/step - loss: 0.4433 - accuracy: 0.7903\n",
      "Epoch 27/100\n",
      "94/94 [==============================] - 0s 5ms/step - loss: 0.4423 - accuracy: 0.7886\n",
      "Epoch 28/100\n",
      "94/94 [==============================] - 1s 6ms/step - loss: 0.4412 - accuracy: 0.7883\n",
      "Epoch 29/100\n",
      "94/94 [==============================] - 1s 6ms/step - loss: 0.4435 - accuracy: 0.7906\n",
      "Epoch 30/100\n",
      "94/94 [==============================] - 0s 5ms/step - loss: 0.4421 - accuracy: 0.7906\n",
      "Epoch 31/100\n",
      "94/94 [==============================] - 0s 5ms/step - loss: 0.4430 - accuracy: 0.7883\n",
      "Epoch 32/100\n",
      "94/94 [==============================] - 0s 5ms/step - loss: 0.4422 - accuracy: 0.7903\n",
      "Epoch 33/100\n",
      "94/94 [==============================] - 0s 5ms/step - loss: 0.4425 - accuracy: 0.7856\n",
      "Epoch 34/100\n",
      "94/94 [==============================] - 0s 5ms/step - loss: 0.4405 - accuracy: 0.7920\n",
      "Epoch 35/100\n",
      "94/94 [==============================] - 0s 5ms/step - loss: 0.4413 - accuracy: 0.7943\n",
      "Epoch 36/100\n",
      "94/94 [==============================] - 0s 5ms/step - loss: 0.4415 - accuracy: 0.7920\n",
      "Epoch 37/100\n",
      "94/94 [==============================] - 0s 5ms/step - loss: 0.4410 - accuracy: 0.7946\n",
      "Epoch 38/100\n",
      "94/94 [==============================] - 0s 5ms/step - loss: 0.4397 - accuracy: 0.7936\n",
      "Epoch 39/100\n",
      "94/94 [==============================] - 0s 5ms/step - loss: 0.4403 - accuracy: 0.7930\n",
      "Epoch 40/100\n",
      "94/94 [==============================] - 0s 5ms/step - loss: 0.4400 - accuracy: 0.7910\n",
      "Epoch 41/100\n",
      "94/94 [==============================] - 0s 5ms/step - loss: 0.4387 - accuracy: 0.7946\n",
      "Epoch 42/100\n",
      "94/94 [==============================] - 0s 5ms/step - loss: 0.4402 - accuracy: 0.7903\n",
      "Epoch 43/100\n",
      "94/94 [==============================] - 0s 5ms/step - loss: 0.4392 - accuracy: 0.7870\n",
      "Epoch 44/100\n",
      "94/94 [==============================] - 0s 5ms/step - loss: 0.4389 - accuracy: 0.7920\n",
      "Epoch 45/100\n",
      "94/94 [==============================] - 0s 5ms/step - loss: 0.4381 - accuracy: 0.7913\n",
      "Epoch 46/100\n",
      "94/94 [==============================] - 0s 5ms/step - loss: 0.4386 - accuracy: 0.7946\n",
      "Epoch 47/100\n",
      "94/94 [==============================] - 1s 7ms/step - loss: 0.4392 - accuracy: 0.7866: 0s - loss: 0.4474 - accuracy: \n",
      "Epoch 48/100\n",
      "94/94 [==============================] - 0s 5ms/step - loss: 0.4376 - accuracy: 0.7913\n",
      "Epoch 49/100\n",
      "94/94 [==============================] - 0s 5ms/step - loss: 0.4369 - accuracy: 0.7940\n",
      "Epoch 50/100\n",
      "94/94 [==============================] - 0s 5ms/step - loss: 0.4361 - accuracy: 0.7960\n",
      "Epoch 51/100\n",
      "94/94 [==============================] - 0s 5ms/step - loss: 0.4367 - accuracy: 0.7930\n",
      "Epoch 52/100\n",
      "94/94 [==============================] - 0s 5ms/step - loss: 0.4383 - accuracy: 0.7910: 0s - loss: 0.4327 - accuracy\n",
      "Epoch 53/100\n",
      "94/94 [==============================] - 0s 5ms/step - loss: 0.4363 - accuracy: 0.7910\n",
      "Epoch 54/100\n",
      "94/94 [==============================] - 0s 5ms/step - loss: 0.4355 - accuracy: 0.7930\n",
      "Epoch 55/100\n",
      "94/94 [==============================] - 1s 6ms/step - loss: 0.4347 - accuracy: 0.7957\n",
      "Epoch 56/100\n",
      "94/94 [==============================] - 1s 8ms/step - loss: 0.4385 - accuracy: 0.7856\n",
      "Epoch 57/100\n",
      "94/94 [==============================] - 1s 5ms/step - loss: 0.4362 - accuracy: 0.7926\n",
      "Epoch 58/100\n",
      "94/94 [==============================] - 1s 6ms/step - loss: 0.4353 - accuracy: 0.7943\n",
      "Epoch 59/100\n",
      "94/94 [==============================] - ETA: 0s - loss: 0.4338 - accuracy: 0.79 - 1s 7ms/step - loss: 0.4350 - accuracy: 0.7926\n",
      "Epoch 60/100\n",
      "94/94 [==============================] - 0s 5ms/step - loss: 0.4346 - accuracy: 0.7950\n",
      "Epoch 61/100\n",
      "94/94 [==============================] - 0s 5ms/step - loss: 0.4345 - accuracy: 0.7913\n",
      "Epoch 62/100\n",
      "94/94 [==============================] - 1s 6ms/step - loss: 0.4366 - accuracy: 0.7920\n",
      "Epoch 63/100\n",
      "94/94 [==============================] - 0s 5ms/step - loss: 0.4345 - accuracy: 0.7950\n",
      "Epoch 64/100\n",
      "94/94 [==============================] - 1s 6ms/step - loss: 0.4346 - accuracy: 0.7946\n",
      "Epoch 65/100\n",
      "94/94 [==============================] - 0s 5ms/step - loss: 0.4344 - accuracy: 0.7987\n",
      "Epoch 66/100\n",
      "94/94 [==============================] - 1s 6ms/step - loss: 0.4330 - accuracy: 0.7973: 0s - loss: 0.4355 - ac\n",
      "Epoch 67/100\n",
      "94/94 [==============================] - 0s 5ms/step - loss: 0.4334 - accuracy: 0.7950\n",
      "Epoch 68/100\n",
      "94/94 [==============================] - 0s 5ms/step - loss: 0.4344 - accuracy: 0.7926\n",
      "Epoch 69/100\n",
      "94/94 [==============================] - 0s 5ms/step - loss: 0.4325 - accuracy: 0.7953\n",
      "Epoch 70/100\n",
      "94/94 [==============================] - 0s 5ms/step - loss: 0.4328 - accuracy: 0.7970\n",
      "Epoch 71/100\n",
      "94/94 [==============================] - 0s 4ms/step - loss: 0.4327 - accuracy: 0.7950\n",
      "Epoch 72/100\n",
      "94/94 [==============================] - 0s 5ms/step - loss: 0.4321 - accuracy: 0.7940\n",
      "Epoch 73/100\n",
      "94/94 [==============================] - 0s 5ms/step - loss: 0.4319 - accuracy: 0.7950\n",
      "Epoch 74/100\n",
      "94/94 [==============================] - 0s 5ms/step - loss: 0.4317 - accuracy: 0.7973\n",
      "Epoch 75/100\n",
      "94/94 [==============================] - 0s 5ms/step - loss: 0.4316 - accuracy: 0.7946\n",
      "Epoch 76/100\n",
      "94/94 [==============================] - 0s 5ms/step - loss: 0.4316 - accuracy: 0.7980\n",
      "Epoch 77/100\n",
      "94/94 [==============================] - 0s 5ms/step - loss: 0.4321 - accuracy: 0.7970\n",
      "Epoch 78/100\n",
      "94/94 [==============================] - 0s 5ms/step - loss: 0.4318 - accuracy: 0.7973\n",
      "Epoch 79/100\n",
      "94/94 [==============================] - 0s 5ms/step - loss: 0.4311 - accuracy: 0.7957\n",
      "Epoch 80/100\n",
      "94/94 [==============================] - 0s 5ms/step - loss: 0.4303 - accuracy: 0.7977\n",
      "Epoch 81/100\n",
      "94/94 [==============================] - 0s 4ms/step - loss: 0.4305 - accuracy: 0.7970\n",
      "Epoch 82/100\n",
      "94/94 [==============================] - 0s 5ms/step - loss: 0.4307 - accuracy: 0.7967\n",
      "Epoch 83/100\n",
      "94/94 [==============================] - 0s 4ms/step - loss: 0.4296 - accuracy: 0.7973\n",
      "Epoch 84/100\n",
      "94/94 [==============================] - 1s 8ms/step - loss: 0.4301 - accuracy: 0.7950\n",
      "Epoch 85/100\n",
      "94/94 [==============================] - 1s 6ms/step - loss: 0.4305 - accuracy: 0.7936\n",
      "Epoch 86/100\n",
      "94/94 [==============================] - 1s 8ms/step - loss: 0.4292 - accuracy: 0.7990\n",
      "Epoch 87/100\n",
      "94/94 [==============================] - 0s 5ms/step - loss: 0.4287 - accuracy: 0.7967\n",
      "Epoch 88/100\n",
      "94/94 [==============================] - 0s 4ms/step - loss: 0.4283 - accuracy: 0.7990\n",
      "Epoch 89/100\n",
      "94/94 [==============================] - 0s 5ms/step - loss: 0.4277 - accuracy: 0.8020\n",
      "Epoch 90/100\n",
      "94/94 [==============================] - 0s 4ms/step - loss: 0.4284 - accuracy: 0.7983\n",
      "Epoch 91/100\n",
      "94/94 [==============================] - 0s 4ms/step - loss: 0.4279 - accuracy: 0.7997\n",
      "Epoch 92/100\n",
      "94/94 [==============================] - 0s 4ms/step - loss: 0.4280 - accuracy: 0.7930\n",
      "Epoch 93/100\n",
      "94/94 [==============================] - 1s 8ms/step - loss: 0.4271 - accuracy: 0.7963\n",
      "Epoch 94/100\n",
      "94/94 [==============================] - 1s 6ms/step - loss: 0.4274 - accuracy: 0.7987: 0s - loss: 0.4337 - ac\n",
      "Epoch 95/100\n",
      "94/94 [==============================] - 0s 5ms/step - loss: 0.4276 - accuracy: 0.7990\n",
      "Epoch 96/100\n",
      "94/94 [==============================] - 0s 5ms/step - loss: 0.4270 - accuracy: 0.8000\n",
      "Epoch 97/100\n",
      "94/94 [==============================] - 0s 5ms/step - loss: 0.4267 - accuracy: 0.7977\n",
      "Epoch 98/100\n",
      "94/94 [==============================] - 0s 5ms/step - loss: 0.4263 - accuracy: 0.7993\n",
      "Epoch 99/100\n",
      "94/94 [==============================] - 0s 4ms/step - loss: 0.4259 - accuracy: 0.8020\n",
      "Epoch 100/100\n",
      "94/94 [==============================] - ETA: 0s - loss: 0.4258 - accuracy: 0.80 - 0s 4ms/step - loss: 0.4258 - accuracy: 0.8007\n"
     ]
    },
    {
     "data": {
      "text/plain": [
       "<tensorflow.python.keras.callbacks.History at 0x1a07895fd90>"
      ]
     },
     "execution_count": 38,
     "metadata": {},
     "output_type": "execute_result"
    }
   ],
   "source": [
    "model.fit(X_train,y_train,epochs=100)"
   ]
  },
  {
   "cell_type": "code",
   "execution_count": 39,
   "id": "ed73169b",
   "metadata": {
    "scrolled": true
   },
   "outputs": [
    {
     "name": "stdout",
     "output_type": "stream",
     "text": [
      "24/24 [==============================] - 0s 3ms/step - loss: 0.4851 - accuracy: 0.7634\n",
      "              precision    recall  f1-score   support\n",
      "\n",
      "           0       0.78      0.73      0.76       374\n",
      "           1       0.75      0.80      0.77       374\n",
      "\n",
      "    accuracy                           0.76       748\n",
      "   macro avg       0.76      0.76      0.76       748\n",
      "weighted avg       0.76      0.76      0.76       748\n",
      "\n"
     ]
    }
   ],
   "source": [
    "model.evaluate(X_test, y_test)\n",
    "yp = model.predict(X_test)\n",
    "ypred=[]\n",
    "for e in yp:\n",
    "    if e>0.5:\n",
    "        ypred.append(1)\n",
    "    else:\n",
    "        ypred.append(0)\n",
    "print(classification_report(y_test, ypred))"
   ]
  },
  {
   "cell_type": "code",
   "execution_count": 41,
   "id": "8c5e64d6",
   "metadata": {},
   "outputs": [
    {
     "name": "stdout",
     "output_type": "stream",
     "text": [
      "0    5163\n",
      "1    1869\n",
      "Name: Churn, dtype: int64\n",
      "1    5163\n",
      "0    5163\n",
      "Name: Churn, dtype: int64\n"
     ]
    }
   ],
   "source": [
    "\n",
    "print(df2.Churn.value_counts())\n",
    "dfC0= df2[df2['Churn']==0]\n",
    "dfC1= df2[df2['Churn']==1]\n",
    "\n",
    "## Over Sampling\n",
    "dfC1=dfC1.sample(5163, replace=True)\n",
    "df100=pd.concat([dfC0,dfC1], axis=0)\n",
    "print(df100.Churn.value_counts())"
   ]
  },
  {
   "cell_type": "code",
   "execution_count": 47,
   "id": "7130d258",
   "metadata": {
    "scrolled": true
   },
   "outputs": [
    {
     "name": "stdout",
     "output_type": "stream",
     "text": [
      "0    5163\n",
      "1    1869\n",
      "Name: Churn, dtype: int64\n",
      "1    5163\n",
      "0    5163\n",
      "Name: Churn, dtype: int64\n"
     ]
    }
   ],
   "source": [
    "## SMOTE\n",
    "X= df2.drop('Churn', axis='columns')\n",
    "y=df2['Churn']\n",
    "print(y.value_counts())\n",
    "from imblearn.over_sampling import SMOTE\n",
    "smote = SMOTE(sampling_strategy='minority')\n",
    "Xsm, ysm = smote.fit_resample(X,y)\n",
    "print(ysm.value_counts())"
   ]
  }
 ],
 "metadata": {
  "kernelspec": {
   "display_name": "Python 3",
   "language": "python",
   "name": "python3"
  },
  "language_info": {
   "codemirror_mode": {
    "name": "ipython",
    "version": 3
   },
   "file_extension": ".py",
   "mimetype": "text/x-python",
   "name": "python",
   "nbconvert_exporter": "python",
   "pygments_lexer": "ipython3",
   "version": "3.9.0"
  }
 },
 "nbformat": 4,
 "nbformat_minor": 5
}
